{
 "cells": [
  {
   "cell_type": "markdown",
   "id": "7807ed6f-93ef-462f-a017-b983491b5ede",
   "metadata": {},
   "source": [
    "# Algorithms and Data Structures"
   ]
  },
  {
   "cell_type": "markdown",
   "id": "9b75c6a1-4980-4ceb-87a8-d3a46c19ca9b",
   "metadata": {},
   "source": [
    "## Why\n",
    "\n",
    "1. Helps you to practice.\n",
    "2. Basic concepts and ideas that you will se again and again.\n",
    "3. Solving these problems can help you solve bigger problems.\n",
    "4. Builds confidence.\n",
    "5. Rehersal for technical interviews.\n",
    "6. Helps understand how more advance software works.\n",
    "7. General Knowledge of programming.\n",
    "8. Forces you to try to solve a problem step by step.\n",
    "9. You need to be able to communicate ideas.\n",
    "10. Convert ideas into code.\n",
    "11. You need to think about inputs, outputs, test cases and edge cases."
   ]
  },
  {
   "cell_type": "markdown",
   "id": "5947a0d0-fba8-43ac-b6bf-26a75275b2e3",
   "metadata": {},
   "source": [
    "# Algorithms\n",
    "\n",
    "It is a finite sequence of well defined steps to solve a specific problem.\n",
    "\n",
    "## Steps to solve a problem\n",
    "\n",
    "1. We have to define the problem with very clear language.\n",
    "2. Think about possible data scenarios.\n",
    "3. Define solution for the problem.\n",
    "4. Implement the solution in your language of preference.\n",
    "5. Test solution and use cases.\n",
    "5. Analyze algorithm's complexity and performance.\n",
    "6. Find a better solution, if possible."
   ]
  },
  {
   "cell_type": "markdown",
   "id": "f5d39743-a058-473f-8651-cf70d97f8a68",
   "metadata": {},
   "source": [
    "### Problem definition\n",
    "\n",
    "Given a sorted list of number find a the location of a given number in that list.\n",
    "\n",
    "### Data scenarios\n",
    "\n",
    "The following are some examples of data input for the problem"
   ]
  },
  {
   "cell_type": "code",
   "execution_count": 1,
   "id": "9d450735-df22-48b3-b01d-6808ae9ee551",
   "metadata": {},
   "outputs": [],
   "source": [
    "numbers=[1,3,7,13,21,45,67,89]\n",
    "search=45\n",
    "result=5"
   ]
  },
  {
   "cell_type": "markdown",
   "id": "9c8e9a99-c85e-48d8-ae63-7a67bbf2cbc0",
   "metadata": {},
   "source": [
    "##  Linear Search\n"
   ]
  },
  {
   "cell_type": "code",
   "execution_count": 2,
   "id": "e0b49dd3-dbe7-41e0-a3e2-116e55cf98f4",
   "metadata": {},
   "outputs": [],
   "source": [
    "def find_number_linear(numbers, search):\n",
    "    for i in range(len(numbers)):\n",
    "        if numbers[i]==search:\n",
    "            return i;\n",
    "    return -1"
   ]
  },
  {
   "cell_type": "code",
   "execution_count": 3,
   "id": "0190aaf4-45b5-45f0-8756-b6e64f150c86",
   "metadata": {},
   "outputs": [
    {
     "data": {
      "text/plain": [
       "True"
      ]
     },
     "execution_count": 3,
     "metadata": {},
     "output_type": "execute_result"
    }
   ],
   "source": [
    "find_number_linear(numbers,search)==result"
   ]
  },
  {
   "cell_type": "markdown",
   "id": "e1583738-d26d-49b3-ba28-ba398aecbc2d",
   "metadata": {},
   "source": [
    "## Validation as Dictionary"
   ]
  },
  {
   "cell_type": "code",
   "execution_count": 4,
   "id": "20f49b66-43a4-4cdc-87c9-c17e96d46311",
   "metadata": {},
   "outputs": [],
   "source": [
    "validation= {\n",
    "    'data':{\n",
    "        'numbers': [1,3,7,13,21,45,67,89],\n",
    "        'search': 45\n",
    "    },\n",
    "    'result' : 5,\n",
    "    'description':'Simple test'\n",
    "}"
   ]
  },
  {
   "cell_type": "code",
   "execution_count": 5,
   "id": "1ed6cc8a-a565-4d14-9e8e-99a97f1cfe95",
   "metadata": {},
   "outputs": [
    {
     "data": {
      "text/plain": [
       "True"
      ]
     },
     "execution_count": 5,
     "metadata": {},
     "output_type": "execute_result"
    }
   ],
   "source": [
    "find_number_linear(**validation['data']) == validation['result']"
   ]
  },
  {
   "cell_type": "markdown",
   "id": "5891179f-9bce-452c-820e-d35553464624",
   "metadata": {},
   "source": [
    "## Multiple validations"
   ]
  },
  {
   "cell_type": "code",
   "execution_count": 6,
   "id": "69afabaf-277b-4112-b049-99f98e908aaa",
   "metadata": {},
   "outputs": [],
   "source": [
    "def test_validations(function,validations):\n",
    "    for test in validations:\n",
    "        result=function(**test['data']) \n",
    "        if result== test['result']:\n",
    "            print('Test Passed ->: {}'.format(test['description']))           \n",
    "        else:\n",
    "            print('Test Failed ->: {}'.format(test['description']))\n",
    "            \n",
    "        print('\\t Input   ->: Input {}'.format(test['data']))\n",
    "        print('\\t Results ->: Output {}, expected {}'.format(result,test['result']))"
   ]
  },
  {
   "cell_type": "code",
   "execution_count": 7,
   "id": "c149c72d-0598-48e8-8ae2-8d7ec911cfcf",
   "metadata": {},
   "outputs": [],
   "source": [
    "validations= []"
   ]
  },
  {
   "cell_type": "code",
   "execution_count": 8,
   "id": "482a0b65-577b-4881-8972-e4de9cb9f6b2",
   "metadata": {},
   "outputs": [],
   "source": [
    "validations.append({\n",
    "    'data':{\n",
    "        'numbers': [1,3,7,13,21,45,67,89],\n",
    "        'search': 1\n",
    "    },\n",
    "    'result' : 0,\n",
    "    'description':'Number at the beginning'\n",
    "})"
   ]
  },
  {
   "cell_type": "code",
   "execution_count": 9,
   "id": "aa0e22a0-84c4-4f45-bbb1-85f94cc9368b",
   "metadata": {},
   "outputs": [],
   "source": [
    "validations.append({\n",
    "    'data':{\n",
    "        'numbers': [1,3,7,13,21,45,67,89],\n",
    "        'search': 89\n",
    "    },\n",
    "    'result' : 7,\n",
    "    'description':'Number at the end'\n",
    "    \n",
    "})"
   ]
  },
  {
   "cell_type": "code",
   "execution_count": 10,
   "id": "a614732b-e0d4-452e-9681-4858995b382a",
   "metadata": {},
   "outputs": [],
   "source": [
    "validations.append({\n",
    "    'data':{\n",
    "        'numbers': [1,3,7,13,21,45,67,89],\n",
    "        'search': 100\n",
    "    },\n",
    "    'result' : -1,\n",
    "    'description':'Missing number'\n",
    "})"
   ]
  },
  {
   "cell_type": "code",
   "execution_count": 11,
   "id": "d8309d58-8dcb-4a62-9933-71cba79adc6f",
   "metadata": {},
   "outputs": [],
   "source": [
    "validations.append({\n",
    "    'data':{\n",
    "        'numbers': [89],\n",
    "        'search': 89\n",
    "    },\n",
    "    'result' : 0,\n",
    "    'description':'One number only'\n",
    "})"
   ]
  },
  {
   "cell_type": "code",
   "execution_count": 12,
   "id": "032d1a02-17ed-4714-9da2-033e107ed3a4",
   "metadata": {},
   "outputs": [],
   "source": [
    "validations.append({\n",
    "    'data':{\n",
    "        'numbers': [1,3,3,4,7,13,21,45,67,89],\n",
    "        'search': 7\n",
    "    },\n",
    "    'result' : 4,\n",
    "    'description':'Number Repetions'\n",
    "    \n",
    "})"
   ]
  },
  {
   "cell_type": "code",
   "execution_count": 13,
   "id": "c68d1ed8-10d9-4886-bc26-cf35ada48666",
   "metadata": {},
   "outputs": [
    {
     "name": "stdout",
     "output_type": "stream",
     "text": [
      "Test Passed ->: Number at the beginning\n",
      "\t Input   ->: Input {'numbers': [1, 3, 7, 13, 21, 45, 67, 89], 'search': 1}\n",
      "\t Results ->: Output 0, expected 0\n",
      "Test Passed ->: Number at the end\n",
      "\t Input   ->: Input {'numbers': [1, 3, 7, 13, 21, 45, 67, 89], 'search': 89}\n",
      "\t Results ->: Output 7, expected 7\n",
      "Test Passed ->: Missing number\n",
      "\t Input   ->: Input {'numbers': [1, 3, 7, 13, 21, 45, 67, 89], 'search': 100}\n",
      "\t Results ->: Output -1, expected -1\n",
      "Test Passed ->: One number only\n",
      "\t Input   ->: Input {'numbers': [89], 'search': 89}\n",
      "\t Results ->: Output 0, expected 0\n",
      "Test Passed ->: Number Repetions\n",
      "\t Input   ->: Input {'numbers': [1, 3, 3, 4, 7, 13, 21, 45, 67, 89], 'search': 7}\n",
      "\t Results ->: Output 4, expected 4\n"
     ]
    }
   ],
   "source": [
    "test_validations(find_number_linear,validations)"
   ]
  },
  {
   "cell_type": "code",
   "execution_count": 14,
   "id": "ba44ee05-a52a-42eb-a647-6ebd42273aa1",
   "metadata": {},
   "outputs": [],
   "source": [
    "validations.append({\n",
    "    'data':{\n",
    "        'numbers': [],\n",
    "        'search': 1\n",
    "    },\n",
    "    'result' : -1,\n",
    "    'description':'Empty'\n",
    "    \n",
    "})"
   ]
  },
  {
   "cell_type": "code",
   "execution_count": 15,
   "id": "1ef96a53-e9a6-43ab-abe7-83166ac8d49f",
   "metadata": {},
   "outputs": [
    {
     "name": "stdout",
     "output_type": "stream",
     "text": [
      "Test Passed ->: Number at the beginning\n",
      "\t Input   ->: Input {'numbers': [1, 3, 7, 13, 21, 45, 67, 89], 'search': 1}\n",
      "\t Results ->: Output 0, expected 0\n",
      "Test Passed ->: Number at the end\n",
      "\t Input   ->: Input {'numbers': [1, 3, 7, 13, 21, 45, 67, 89], 'search': 89}\n",
      "\t Results ->: Output 7, expected 7\n",
      "Test Passed ->: Missing number\n",
      "\t Input   ->: Input {'numbers': [1, 3, 7, 13, 21, 45, 67, 89], 'search': 100}\n",
      "\t Results ->: Output -1, expected -1\n",
      "Test Passed ->: One number only\n",
      "\t Input   ->: Input {'numbers': [89], 'search': 89}\n",
      "\t Results ->: Output 0, expected 0\n",
      "Test Passed ->: Number Repetions\n",
      "\t Input   ->: Input {'numbers': [1, 3, 3, 4, 7, 13, 21, 45, 67, 89], 'search': 7}\n",
      "\t Results ->: Output 4, expected 4\n",
      "Test Passed ->: Empty\n",
      "\t Input   ->: Input {'numbers': [], 'search': 1}\n",
      "\t Results ->: Output -1, expected -1\n"
     ]
    }
   ],
   "source": [
    "test_validations(find_number_linear,validations)"
   ]
  },
  {
   "cell_type": "code",
   "execution_count": 16,
   "id": "b4668a3c-0c2e-4bfe-acbf-e1c60ef1cc4d",
   "metadata": {},
   "outputs": [],
   "source": [
    "large_validation = {\n",
    "    'data': {\n",
    "        'numbers': [i for i in range(10000000)],\n",
    "        'search': 99999999\n",
    "    },\n",
    "    'result': 99999999,\n",
    "    'description':'Very large list'    \n",
    "} "
   ]
  },
  {
   "cell_type": "code",
   "execution_count": 17,
   "id": "2f5d2c84-ae93-42b0-a460-0f384f6d4497",
   "metadata": {},
   "outputs": [
    {
     "name": "stdout",
     "output_type": "stream",
     "text": [
      "CPU times: user 295 ms, sys: 0 ns, total: 295 ms\n",
      "Wall time: 294 ms\n"
     ]
    }
   ],
   "source": [
    "%%time\n",
    "res=find_number_linear(**large_validation['data'])"
   ]
  },
  {
   "cell_type": "markdown",
   "id": "e9b5d835-b7d2-44c0-b613-a948c9fe6844",
   "metadata": {},
   "source": [
    "## Binary Search\n"
   ]
  },
  {
   "cell_type": "markdown",
   "id": "2f7a54e5-f9df-4668-8574-f620a2ee9bc3",
   "metadata": {},
   "source": [
    "### Steps\n",
    "\n",
    "1. Find the number in the middle.\n",
    "2. If it matches then you are done.\n",
    "3. If the number is lower than the search look in the left side of the array.\n",
    "4. If the number is higher than the serach look in the rigth side of the array.\n",
    "5. If there are no more numbers return -1"
   ]
  },
  {
   "cell_type": "code",
   "execution_count": 18,
   "id": "d8410734-1595-4809-80e2-78e9f75b8a3b",
   "metadata": {},
   "outputs": [],
   "source": [
    "def find_number_binary(numbers, search):\n",
    "    rigth= 0\n",
    "    left= len(numbers)-1\n",
    "    \n",
    "    while rigth <= left:\n",
    "        center = (rigth + left) // 2\n",
    "        center_number = numbers[center]\n",
    "                \n",
    "        if center_number == search:\n",
    "            return center\n",
    "        elif center_number < search:\n",
    "            rigth = center + 1  \n",
    "        elif center_number > search:\n",
    "            left = center - 1\n",
    "    \n",
    "    return -1"
   ]
  },
  {
   "cell_type": "code",
   "execution_count": 19,
   "id": "b7a190ad-d90f-4cae-b72a-1a37353427fd",
   "metadata": {},
   "outputs": [
    {
     "name": "stdout",
     "output_type": "stream",
     "text": [
      "Test Passed ->: Number at the beginning\n",
      "\t Input   ->: Input {'numbers': [1, 3, 7, 13, 21, 45, 67, 89], 'search': 1}\n",
      "\t Results ->: Output 0, expected 0\n",
      "Test Passed ->: Number at the end\n",
      "\t Input   ->: Input {'numbers': [1, 3, 7, 13, 21, 45, 67, 89], 'search': 89}\n",
      "\t Results ->: Output 7, expected 7\n",
      "Test Passed ->: Missing number\n",
      "\t Input   ->: Input {'numbers': [1, 3, 7, 13, 21, 45, 67, 89], 'search': 100}\n",
      "\t Results ->: Output -1, expected -1\n",
      "Test Passed ->: One number only\n",
      "\t Input   ->: Input {'numbers': [89], 'search': 89}\n",
      "\t Results ->: Output 0, expected 0\n",
      "Test Passed ->: Number Repetions\n",
      "\t Input   ->: Input {'numbers': [1, 3, 3, 4, 7, 13, 21, 45, 67, 89], 'search': 7}\n",
      "\t Results ->: Output 4, expected 4\n",
      "Test Passed ->: Empty\n",
      "\t Input   ->: Input {'numbers': [], 'search': 1}\n",
      "\t Results ->: Output -1, expected -1\n"
     ]
    }
   ],
   "source": [
    "test_validations(find_number_binary,validations)"
   ]
  },
  {
   "cell_type": "code",
   "execution_count": 20,
   "id": "0091812a-4bf6-44f3-b528-88cbcea6f58b",
   "metadata": {},
   "outputs": [
    {
     "name": "stdout",
     "output_type": "stream",
     "text": [
      "CPU times: user 13 µs, sys: 2 µs, total: 15 µs\n",
      "Wall time: 17.2 µs\n"
     ]
    }
   ],
   "source": [
    "%%time \n",
    "res=find_number_binary(**large_validation['data'])"
   ]
  },
  {
   "cell_type": "code",
   "execution_count": 21,
   "id": "1183718a-fdc3-4b5d-8416-9858998e4d4d",
   "metadata": {},
   "outputs": [],
   "source": [
    "import time\n",
    "def get_time(function,validation):\n",
    "    start = time.time()\n",
    "    function(**validation['data'])\n",
    "    end = time.time()\n",
    "    return(end - start)\n",
    "\n",
    "def simulation(function,validation,sim_number, increment):\n",
    "    step=sim_number//increment\n",
    "    results=[]\n",
    "    for i in range(0,step):\n",
    "        validation['data']['search']=i*increment\n",
    "        validation['result']=i*increment\n",
    "        results.append(get_time(function,validation))\n",
    "        \n",
    "    return results"
   ]
  },
  {
   "cell_type": "markdown",
   "id": "789754f9-050f-4ee6-b404-60d6cdd45a31",
   "metadata": {
    "tags": []
   },
   "source": [
    "# Complexity \n",
    "\n",
    "The complexity of a algoritm is based on the amount of time or space it take to complete the process for a input of size N.\n",
    "\n",
    "For the previous search function the time complexity is O(N) where N is the size of the array passed to the function and O(1) for space complexity."
   ]
  },
  {
   "cell_type": "markdown",
   "id": "0765ea70-8595-4169-b2ea-e4fad513ba3c",
   "metadata": {},
   "source": [
    "## Linear Search Complexity\n",
    "\n",
    "During linear Search the Maxinum number of operations that are possible is N. Therefore, the complexity of this algorithm is $O(N)$\n",
    "\n",
    "## Simulation Results"
   ]
  },
  {
   "cell_type": "code",
   "execution_count": 22,
   "id": "aeffb9d6-b196-4125-a22d-967b1f2a1c04",
   "metadata": {},
   "outputs": [
    {
     "data": {
      "image/png": "[encoded data removed]",
      "text/plain": [
       "<Figure size 432x288 with 1 Axes>"
      ]
     },
     "metadata": {
      "needs_background": "light"
     },
     "output_type": "display_data"
    }
   ],
   "source": [
    "import matplotlib.pyplot as plt\n",
    "sim_number=10000000\n",
    "increment=500000\n",
    "ypoints_lineal=simulation(find_number_linear,large_validation,sim_number,increment)\n",
    "plt.plot(ypoints_lineal,color='r')\n",
    "plt.show()"
   ]
  },
  {
   "cell_type": "markdown",
   "id": "cb2ce2b9-aa38-4ce2-b35b-3f85a21d26cf",
   "metadata": {},
   "source": [
    "## Binary Search Complexity\n",
    "\n",
    "Binary Search break the search list in smaller pieces. On each interation the size of the array is divided by 2. The size of the list in the k iteration is then defined as $\\frac{N}{2^k}$\n",
    "\n",
    "Where \n",
    "- N is size of array\n",
    "- k iteration number\n",
    "\n",
    "Since the size of the final array is 1. We then have $\\frac{N}{2^k}=1$. If we rearrange the terms and solve for $k$ we have then\n",
    "\n",
    "$2^k=N$\n",
    "\n",
    "taking $log_2$ on both sides\n",
    "\n",
    "$k=log_2(N)$\n",
    "\n",
    "Therefore, the maxium number if iteration is $log(N)$ and the complexity for the algorith is $O(log(N))$\n",
    "\n",
    "## Simulation Results"
   ]
  },
  {
   "cell_type": "code",
   "execution_count": 23,
   "id": "ffdc3e84-f6ce-4477-8e23-76a533fc4efe",
   "metadata": {},
   "outputs": [
    {
     "data": {
      "image/png": "[encoded data removed]",
      "text/plain": [
       "<Figure size 432x288 with 1 Axes>"
      ]
     },
     "metadata": {
      "needs_background": "light"
     },
     "output_type": "display_data"
    }
   ],
   "source": [
    "import matplotlib.pyplot as plt\n",
    "sim_number=10000000\n",
    "increment=500000\n",
    "ypoints_binary=simulation(find_number_binary,large_validation,sim_number,increment)\n",
    "plt.plot(ypoints_binary, color = 'b')\n",
    "plt.show()"
   ]
  },
  {
   "cell_type": "markdown",
   "id": "99876240-6e34-489b-ad85-ede724f8eb02",
   "metadata": {},
   "source": [
    "## Combined\n"
   ]
  },
  {
   "cell_type": "code",
   "execution_count": 24,
   "id": "de060d56-39f0-4423-964c-66be9c8dadba",
   "metadata": {},
   "outputs": [
    {
     "data": {
      "image/png": "[encoded data removed]",
      "text/plain": [
       "<Figure size 432x288 with 1 Axes>"
      ]
     },
     "metadata": {
      "needs_background": "light"
     },
     "output_type": "display_data"
    }
   ],
   "source": [
    "import matplotlib.pyplot as plt\n",
    "sim_number=1000000\n",
    "increment=50000\n",
    "\n",
    "ypoints_lineal=simulation(find_number_linear,large_validation,sim_number,increment)\n",
    "ypoints_binary=simulation(find_number_binary,large_validation,sim_number,increment)\n",
    "plt.plot(ypoints_lineal,color='r')\n",
    "plt.plot(ypoints_binary, color = 'b')\n",
    "plt.show()"
   ]
  },
  {
   "cell_type": "markdown",
   "id": "fd22769c-e30d-4244-80c8-e8d254d1b46f",
   "metadata": {},
   "source": [
    "# Building environment\n",
    "## Create virtual enviroment\n",
    "``` shell\n",
    "mkdir ~/.virtualenvs\n",
    "cd ~/.virtualenvs\n",
    "python3 -m venv ads\n",
    ". ~/.virtualenvs/ads/bin/activate\n",
    "```\n",
    "\n",
    "## Install Libraries\n",
    "\n",
    "``` shell\n",
    "python3 -m pip install jupyterlab\n",
    "python3 -m pip install matplotlib\n",
    "\n",
    "mkdir ~/ads\n",
    "cd ~/ads\n",
    "```"
   ]
  },
  {
   "cell_type": "markdown",
   "id": "4d04fdce-0e07-4dc8-825d-0f84edc157b9",
   "metadata": {},
   "source": [
    "## Execute Jupyter Lab\n",
    "``` shell\n",
    ". ~/.virtualenvs/ads/bin/activate\n",
    "cd ~/ads\n",
    "jupyter lab\n",
    "```"
   ]
  }
 ],
 "metadata": {
  "kernelspec": {
   "display_name": "Python 3 (ipykernel)",
   "language": "python",
   "name": "python3"
  },
  "language_info": {
   "codemirror_mode": {
    "name": "ipython",
    "version": 3
   },
   "file_extension": ".py",
   "mimetype": "text/x-python",
   "name": "python",
   "nbconvert_exporter": "python",
   "pygments_lexer": "ipython3",
   "version": "3.8.10"
  }
 },
 "nbformat": 4,
 "nbformat_minor": 5
}
